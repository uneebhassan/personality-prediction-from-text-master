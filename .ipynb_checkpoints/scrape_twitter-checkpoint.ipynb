{
 "cells": [
  {
   "cell_type": "code",
   "execution_count": 10,
   "metadata": {
    "collapsed": true
   },
   "outputs": [],
   "source": [
    "from selenium.webdriver import Chrome\n",
    "import pymongo\n",
    "import datetime"
   ]
  },
  {
   "cell_type": "code",
   "execution_count": 51,
   "metadata": {
    "collapsed": true
   },
   "outputs": [],
   "source": [
    "url = \"https://twitter.com/search?q=%23pokemon&src=typd\""
   ]
  },
  {
   "cell_type": "code",
   "execution_count": 52,
   "metadata": {
    "collapsed": true
   },
   "outputs": [],
   "source": [
    "browser = Chrome()"
   ]
  },
  {
   "cell_type": "code",
   "execution_count": 53,
   "metadata": {
    "collapsed": true
   },
   "outputs": [],
   "source": [
    "browser.get(url)"
   ]
  },
  {
   "cell_type": "code",
   "execution_count": 5,
   "metadata": {
    "collapsed": true
   },
   "outputs": [],
   "source": [
    "html = browser.page_source"
   ]
  },
  {
   "cell_type": "code",
   "execution_count": 7,
   "metadata": {
    "collapsed": true
   },
   "outputs": [],
   "source": [
    "mc = pymongo.MongoClient()"
   ]
  },
  {
   "cell_type": "code",
   "execution_count": 8,
   "metadata": {
    "collapsed": true
   },
   "outputs": [],
   "source": [
    "db = mc['tweets']"
   ]
  },
  {
   "cell_type": "code",
   "execution_count": 9,
   "metadata": {
    "collapsed": true
   },
   "outputs": [],
   "source": [
    "pokemon_tweets = db['pokemon']"
   ]
  },
  {
   "cell_type": "code",
   "execution_count": 13,
   "metadata": {},
   "outputs": [
    {
     "data": {
      "text/plain": [
       "<pymongo.results.InsertOneResult at 0x10d716e10>"
      ]
     },
     "execution_count": 13,
     "metadata": {},
     "output_type": "execute_result"
    }
   ],
   "source": [
    "pokemon_tweets.insert_one(\n",
    "    {\n",
    "         'url': url,\n",
    "         'datetime': datetime.datetime.now(),\n",
    "         'html': html\n",
    "    })"
   ]
  },
  {
   "cell_type": "code",
   "execution_count": 16,
   "metadata": {
    "collapsed": true
   },
   "outputs": [],
   "source": [
    "sel = \"div.tweet\"\n",
    "tweets = browser.find_elements_by_css_selector(sel)"
   ]
  },
  {
   "cell_type": "code",
   "execution_count": 17,
   "metadata": {},
   "outputs": [
    {
     "data": {
      "text/plain": [
       "20"
      ]
     },
     "execution_count": 17,
     "metadata": {},
     "output_type": "execute_result"
    }
   ],
   "source": [
    "len(tweets)"
   ]
  },
  {
   "cell_type": "code",
   "execution_count": 18,
   "metadata": {},
   "outputs": [
    {
     "data": {
      "text/plain": [
       "['チョコミル -chocomiru-\\n @chocomiru02\\nMar 27\\nMore\\nFull art for Dawn in her outfit from #Pokemon Diamond and Pearl! \\nReply\\n4\\nRetweet\\n108\\nLike\\n341',\n",
       " \"just a lil clown\\n @n_bbee\\n18h\\n18 hours ago\\nMore\\none of my favorite pieces of lillie i made awhile ago! i think she's my favorite character to draw #pokemon \\nReply\\nRetweet\\n30\\nLike\\n47\",\n",
       " \"infinite\\n @SacredFireNegro\\nMar 29\\nMore\\nLet's talk these facts. #Pokemon \\nReply\\n32\\nRetweet\\n6\\nLike\\n108\",\n",
       " 'peanut \\n🍀\\n @peanut_draws\\nMar 28\\nMore\\nglaceon doodle  #pokemon \\nReply\\nRetweet\\n61\\nLike\\n221',\n",
       " 'Ashmish\\n @ashmishart\\nMar 28\\nMore\\nMonhunized #pokemon I made some years ago!\\nDifferent year, different style  \\nReply\\n4\\nRetweet\\n57\\nLike\\n180',\n",
       " 'Poké Junkie\\n @PokeJunkie\\nMar 24\\nMore\\nEternal love! #Pokemon \\nReply\\n1\\nRetweet\\n32\\nLike\\n93',\n",
       " 'PayThePiper\\n @tony_piper87\\nMar 28\\nMore\\nGiveaway!!!\\nill be giving away a random blister pack of my choosing. Contest starts now and will end Saturday at 12 pm EST. Simply , like, retweet, and leave the funniest joke you know in the comments !#GiveawayAlert #pokemon #PokemonTCG #WinItWednesday #win  \\nGOOD LUCK!!! \\nReply\\n16\\nRetweet\\n34\\nLike\\n32',\n",
       " 'MezMaroon\\n @MezMaroon\\n20h\\n20 hours ago\\nMore\\nBraixen sketch to get back in the swing of things #Pokemon #braixen\\nReply\\n2\\nRetweet\\n39\\nLike\\n129',\n",
       " 'Mr Axel Strife\\n @AxelStrife\\n20h\\n20 hours ago\\nMore\\nStarters #Pokemon \\nReply\\n1\\nRetweet\\n20\\nLike\\n58',\n",
       " 'Matthew Verive\\n @MatthewVerive\\nMar 28\\nMore\\nThis one is so BRUTAL! #MarchMadness #bracketmadness #BracketOfRandomThings #bracket #brackets #BracketChallenge #finalfour #nickelodeon #disney #disneychannel #cartoonnetwork #spongebob #pokemon \\nReply\\n14\\nRetweet\\n68\\nLike\\n157',\n",
       " 'pipi\\n @pidoodle\\nMar 28\\nMore\\n~10 min #pokemon doodles! \\nReply\\n1\\nRetweet\\n5\\nLike\\n14',\n",
       " 'Mr Axel Strife\\n @AxelStrife\\nMar 28\\nMore\\nOficial Artwork #Pokemon \\nReply\\nRetweet\\n7\\nLike\\n30',\n",
       " 'incomprehensible amount of salt\\n @SaltierPiplup\\n19h\\n19 hours ago\\nMore\\nSharpedo Bluff\\n#PMD #Pokemon \\nReply\\n4\\nRetweet\\n10\\nLike\\n20',\n",
       " 'CecilTheDarkKnight32\\n @Cecil_234\\nMar 27\\nMore\\nRT if you can hear this image #pokemon \\nReply\\n3\\nRetweet\\n25\\nLike\\n26',\n",
       " 'Meg K  \\n🍑\\n @gypsuum\\nMar 25\\nMore\\nThinking about Guzma again. Trying too hard to be cool and still has a really bad farmers tan. Sweats too much. #pokemon \\nReply\\n1\\nRetweet\\n4\\nLike\\n15',\n",
       " \"sunsbookishgamesx \\n💘\\n @sunsbookgamesx\\n19h\\n19 hours ago\\nMore\\nAlso these #pokemon rumours are getting boring now \\n\\nIt's so obvi most of them are whishful thinking rumours!\\nReply\\n3\\nRetweet\\n4\\nLike\\n32\",\n",
       " 'Retro Game Rater\\n @RetroGameRater\\nMar 28\\nMore\\nWhat is your most tragic gaming moment\\n\\nAt age 11 I got home from school & found my #Pokemon Gold cartridge chewed to pieces by my dog \\n\\nI had all 250 Pokemon \\n\\nWhat’s your most heartbreaking memory\\n\\n#Gaming #RetroGaming #GamersUnite\\nReply\\n39\\nRetweet\\n14\\nLike\\n60',\n",
       " 'ZestyDoesThings\\n @ZestyDoesThings\\n5h\\n5 hours ago\\nMore\\nTree friends! #Pokemon #Hoenn #Slakoth\\nReply\\n5\\nRetweet\\n65\\nLike\\n217\\nShow this thread',\n",
       " 'Awesum James\\n @awesumjames\\nMar 26\\nMore\\nPokemon Giveaway! Follow, like and retweet for your chance to win three reverse holo/holo rare cards, chosen by the winner from these cards pictured. There will be one winner. Winner will be chosen 4/1/18.\\n\\n#Pokemon \\nReply\\n1\\nRetweet\\n74\\nLike\\n78',\n",
       " 'pipi\\n @pidoodle\\n36m\\n36 minutes ago\\nMore\\nsome more #pokemon doodles! \\nReply\\nRetweet\\n3\\nLike\\n5']"
      ]
     },
     "execution_count": 18,
     "metadata": {},
     "output_type": "execute_result"
    }
   ],
   "source": [
    "[tweet.text for tweet in tweets]"
   ]
  },
  {
   "cell_type": "code",
   "execution_count": 19,
   "metadata": {},
   "outputs": [
    {
     "data": {
      "text/plain": [
       "1"
      ]
     },
     "execution_count": 19,
     "metadata": {},
     "output_type": "execute_result"
    }
   ],
   "source": [
    "pokemon_tweets.find().count()"
   ]
  },
  {
   "cell_type": "code",
   "execution_count": 35,
   "metadata": {
    "collapsed": true
   },
   "outputs": [],
   "source": [
    "stored_page = pokemon_tweets.find_one()\n",
    "html = stored_page['html']"
   ]
  },
  {
   "cell_type": "code",
   "execution_count": 25,
   "metadata": {
    "collapsed": true
   },
   "outputs": [],
   "source": [
    "from bs4 import BeautifulSoup\n",
    "soup = BeautifulSoup(html, 'html.parser')"
   ]
  },
  {
   "cell_type": "code",
   "execution_count": 26,
   "metadata": {
    "collapsed": true
   },
   "outputs": [],
   "source": [
    "tweets = soup.select('div.tweet')"
   ]
  },
  {
   "cell_type": "code",
   "execution_count": 29,
   "metadata": {},
   "outputs": [],
   "source": [
    "tweet = tweets[0]"
   ]
  },
  {
   "cell_type": "code",
   "execution_count": 39,
   "metadata": {},
   "outputs": [],
   "source": [
    "def parse_tweet(tweet):\n",
    "    username = tweet.select_one('span.username').text\n",
    "    fullname = tweet.select_one('strong.fullname').text\n",
    "    tweet_text = tweet.select_one('p.tweet-text').text\n",
    "    tweet_dict = {\n",
    "        'username': username,\n",
    "        'fullname': fullname,\n",
    "        'tweet_text': tweet_text\n",
    "    }\n",
    "    return tweet_dict"
   ]
  },
  {
   "cell_type": "code",
   "execution_count": 40,
   "metadata": {},
   "outputs": [],
   "source": [
    "parsed_tweets = [parse_tweet(tweet) for tweet in tweets]"
   ]
  },
  {
   "cell_type": "code",
   "execution_count": 41,
   "metadata": {
    "collapsed": true
   },
   "outputs": [],
   "source": [
    "import pandas as pd"
   ]
  },
  {
   "cell_type": "code",
   "execution_count": 42,
   "metadata": {},
   "outputs": [
    {
     "data": {
      "text/html": [
       "<div>\n",
       "<style scoped>\n",
       "    .dataframe tbody tr th:only-of-type {\n",
       "        vertical-align: middle;\n",
       "    }\n",
       "\n",
       "    .dataframe tbody tr th {\n",
       "        vertical-align: top;\n",
       "    }\n",
       "\n",
       "    .dataframe thead th {\n",
       "        text-align: right;\n",
       "    }\n",
       "</style>\n",
       "<table border=\"1\" class=\"dataframe\">\n",
       "  <thead>\n",
       "    <tr style=\"text-align: right;\">\n",
       "      <th></th>\n",
       "      <th>fullname</th>\n",
       "      <th>tweet_text</th>\n",
       "      <th>username</th>\n",
       "    </tr>\n",
       "  </thead>\n",
       "  <tbody>\n",
       "    <tr>\n",
       "      <th>0</th>\n",
       "      <td>チョコミル -chocomiru-</td>\n",
       "      <td>Full art for Dawn in her outfit from #Pokemon ...</td>\n",
       "      <td>@chocomiru02</td>\n",
       "    </tr>\n",
       "    <tr>\n",
       "      <th>1</th>\n",
       "      <td>just a lil clown</td>\n",
       "      <td>one of my favorite pieces of lillie i made awh...</td>\n",
       "      <td>@n_bbee</td>\n",
       "    </tr>\n",
       "    <tr>\n",
       "      <th>2</th>\n",
       "      <td>infinite</td>\n",
       "      <td>Let's talk these facts. #Pokemon pic.twitter.c...</td>\n",
       "      <td>@SacredFireNegro</td>\n",
       "    </tr>\n",
       "    <tr>\n",
       "      <th>3</th>\n",
       "      <td>peanut 🍀</td>\n",
       "      <td>glaceon doodle  #pokemon pic.twitter.com/oCiRN...</td>\n",
       "      <td>@peanut_draws</td>\n",
       "    </tr>\n",
       "    <tr>\n",
       "      <th>4</th>\n",
       "      <td>Ashmish</td>\n",
       "      <td>Monhunized #pokemon I made some years ago!\\nDi...</td>\n",
       "      <td>@ashmishart</td>\n",
       "    </tr>\n",
       "    <tr>\n",
       "      <th>5</th>\n",
       "      <td>Poké Junkie</td>\n",
       "      <td>Eternal love! #Pokemon pic.twitter.com/S6FePWYz2U</td>\n",
       "      <td>@PokeJunkie</td>\n",
       "    </tr>\n",
       "    <tr>\n",
       "      <th>6</th>\n",
       "      <td>PayThePiper</td>\n",
       "      <td>Giveaway!!!\\nill be giving away a random blist...</td>\n",
       "      <td>@tony_piper87</td>\n",
       "    </tr>\n",
       "    <tr>\n",
       "      <th>7</th>\n",
       "      <td>MezMaroon</td>\n",
       "      <td>Braixen sketch to get back in the swing of thi...</td>\n",
       "      <td>@MezMaroon</td>\n",
       "    </tr>\n",
       "    <tr>\n",
       "      <th>8</th>\n",
       "      <td>Mr Axel Strife</td>\n",
       "      <td>Starters #Pokemon pic.twitter.com/7KZM9Y9Bgp</td>\n",
       "      <td>@AxelStrife</td>\n",
       "    </tr>\n",
       "    <tr>\n",
       "      <th>9</th>\n",
       "      <td>Matthew Verive</td>\n",
       "      <td>This one is so BRUTAL! #MarchMadness #bracketm...</td>\n",
       "      <td>@MatthewVerive</td>\n",
       "    </tr>\n",
       "    <tr>\n",
       "      <th>10</th>\n",
       "      <td>pipi</td>\n",
       "      <td>~10 min #pokemon doodles! pic.twitter.com/QUPo...</td>\n",
       "      <td>@pidoodle</td>\n",
       "    </tr>\n",
       "    <tr>\n",
       "      <th>11</th>\n",
       "      <td>Mr Axel Strife</td>\n",
       "      <td>Oficial Artwork #Pokemon pic.twitter.com/wxM2L...</td>\n",
       "      <td>@AxelStrife</td>\n",
       "    </tr>\n",
       "    <tr>\n",
       "      <th>12</th>\n",
       "      <td>incomprehensible amount of salt</td>\n",
       "      <td>Sharpedo Bluff\\n#PMD #Pokemon pic.twitter.com/...</td>\n",
       "      <td>@SaltierPiplup</td>\n",
       "    </tr>\n",
       "    <tr>\n",
       "      <th>13</th>\n",
       "      <td>CecilTheDarkKnight32</td>\n",
       "      <td>RT if you can hear this image #pokemon pic.twi...</td>\n",
       "      <td>@Cecil_234</td>\n",
       "    </tr>\n",
       "    <tr>\n",
       "      <th>14</th>\n",
       "      <td>Meg K  🍑</td>\n",
       "      <td>Thinking about Guzma again. Trying too hard to...</td>\n",
       "      <td>@gypsuum</td>\n",
       "    </tr>\n",
       "    <tr>\n",
       "      <th>15</th>\n",
       "      <td>sunsbookishgamesx 💘</td>\n",
       "      <td>Also these #pokemon rumours are getting boring...</td>\n",
       "      <td>@sunsbookgamesx</td>\n",
       "    </tr>\n",
       "    <tr>\n",
       "      <th>16</th>\n",
       "      <td>Retro Game Rater</td>\n",
       "      <td>What is your most tragic gaming moment\\n\\nAt a...</td>\n",
       "      <td>@RetroGameRater</td>\n",
       "    </tr>\n",
       "    <tr>\n",
       "      <th>17</th>\n",
       "      <td>ZestyDoesThings</td>\n",
       "      <td>Tree friends! #Pokemon #Hoenn #Slakothpic.twit...</td>\n",
       "      <td>@ZestyDoesThings</td>\n",
       "    </tr>\n",
       "    <tr>\n",
       "      <th>18</th>\n",
       "      <td>Awesum James</td>\n",
       "      <td>Pokemon Giveaway! Follow, like and retweet for...</td>\n",
       "      <td>@awesumjames</td>\n",
       "    </tr>\n",
       "    <tr>\n",
       "      <th>19</th>\n",
       "      <td>pipi</td>\n",
       "      <td>some more #pokemon doodles! pic.twitter.com/aG...</td>\n",
       "      <td>@pidoodle</td>\n",
       "    </tr>\n",
       "  </tbody>\n",
       "</table>\n",
       "</div>"
      ],
      "text/plain": [
       "                           fullname  \\\n",
       "0                 チョコミル -chocomiru-   \n",
       "1                  just a lil clown   \n",
       "2                          infinite   \n",
       "3                          peanut 🍀   \n",
       "4                           Ashmish   \n",
       "5                       Poké Junkie   \n",
       "6                       PayThePiper   \n",
       "7                         MezMaroon   \n",
       "8                    Mr Axel Strife   \n",
       "9                    Matthew Verive   \n",
       "10                             pipi   \n",
       "11                   Mr Axel Strife   \n",
       "12  incomprehensible amount of salt   \n",
       "13             CecilTheDarkKnight32   \n",
       "14                         Meg K  🍑   \n",
       "15              sunsbookishgamesx 💘   \n",
       "16                 Retro Game Rater   \n",
       "17                  ZestyDoesThings   \n",
       "18                     Awesum James   \n",
       "19                             pipi   \n",
       "\n",
       "                                           tweet_text          username  \n",
       "0   Full art for Dawn in her outfit from #Pokemon ...      @chocomiru02  \n",
       "1   one of my favorite pieces of lillie i made awh...           @n_bbee  \n",
       "2   Let's talk these facts. #Pokemon pic.twitter.c...  @SacredFireNegro  \n",
       "3   glaceon doodle  #pokemon pic.twitter.com/oCiRN...     @peanut_draws  \n",
       "4   Monhunized #pokemon I made some years ago!\\nDi...       @ashmishart  \n",
       "5   Eternal love! #Pokemon pic.twitter.com/S6FePWYz2U       @PokeJunkie  \n",
       "6   Giveaway!!!\\nill be giving away a random blist...     @tony_piper87  \n",
       "7   Braixen sketch to get back in the swing of thi...        @MezMaroon  \n",
       "8        Starters #Pokemon pic.twitter.com/7KZM9Y9Bgp       @AxelStrife  \n",
       "9   This one is so BRUTAL! #MarchMadness #bracketm...    @MatthewVerive  \n",
       "10  ~10 min #pokemon doodles! pic.twitter.com/QUPo...         @pidoodle  \n",
       "11  Oficial Artwork #Pokemon pic.twitter.com/wxM2L...       @AxelStrife  \n",
       "12  Sharpedo Bluff\\n#PMD #Pokemon pic.twitter.com/...    @SaltierPiplup  \n",
       "13  RT if you can hear this image #pokemon pic.twi...        @Cecil_234  \n",
       "14  Thinking about Guzma again. Trying too hard to...          @gypsuum  \n",
       "15  Also these #pokemon rumours are getting boring...   @sunsbookgamesx  \n",
       "16  What is your most tragic gaming moment\\n\\nAt a...   @RetroGameRater  \n",
       "17  Tree friends! #Pokemon #Hoenn #Slakothpic.twit...  @ZestyDoesThings  \n",
       "18  Pokemon Giveaway! Follow, like and retweet for...      @awesumjames  \n",
       "19  some more #pokemon doodles! pic.twitter.com/aG...         @pidoodle  "
      ]
     },
     "execution_count": 42,
     "metadata": {},
     "output_type": "execute_result"
    }
   ],
   "source": [
    "tweet_df = pd.DataFrame(parsed_tweets)\n",
    "tweet_df"
   ]
  },
  {
   "cell_type": "code",
   "execution_count": 44,
   "metadata": {},
   "outputs": [],
   "source": [
    "ts_tag = tweet.select_one('span._timestamp')"
   ]
  },
  {
   "cell_type": "code",
   "execution_count": 50,
   "metadata": {},
   "outputs": [
    {
     "data": {
      "text/plain": [
       "Timestamp('2018-03-27 10:46:30')"
      ]
     },
     "execution_count": 50,
     "metadata": {},
     "output_type": "execute_result"
    }
   ],
   "source": [
    "pd.Timestamp.fromtimestamp(int(ts_tag.attrs['data-time']))"
   ]
  },
  {
   "cell_type": "code",
   "execution_count": 56,
   "metadata": {
    "collapsed": true
   },
   "outputs": [],
   "source": [
    "tweets = browser.find_elements_by_css_selector('div.tweet')"
   ]
  },
  {
   "cell_type": "code",
   "execution_count": 71,
   "metadata": {},
   "outputs": [],
   "source": [
    "last_tweet = tweets[-1]"
   ]
  },
  {
   "cell_type": "code",
   "execution_count": 72,
   "metadata": {},
   "outputs": [
    {
     "data": {
      "text/plain": [
       "{'x': 264, 'y': 0}"
      ]
     },
     "execution_count": 72,
     "metadata": {},
     "output_type": "execute_result"
    }
   ],
   "source": [
    "last_tweet.location_once_scrolled_into_view"
   ]
  },
  {
   "cell_type": "code",
   "execution_count": 73,
   "metadata": {},
   "outputs": [
    {
     "data": {
      "text/plain": [
       "20"
      ]
     },
     "execution_count": 73,
     "metadata": {},
     "output_type": "execute_result"
    }
   ],
   "source": [
    "len(tweets)"
   ]
  },
  {
   "cell_type": "code",
   "execution_count": 74,
   "metadata": {
    "collapsed": true
   },
   "outputs": [],
   "source": [
    "tweets = browser.find_elements_by_css_selector(\n",
    "    'div.tweet'\n",
    ")"
   ]
  },
  {
   "cell_type": "code",
   "execution_count": 75,
   "metadata": {},
   "outputs": [
    {
     "data": {
      "text/plain": [
       "40"
      ]
     },
     "execution_count": 75,
     "metadata": {},
     "output_type": "execute_result"
    }
   ],
   "source": [
    "len(tweets)"
   ]
  },
  {
   "cell_type": "code",
   "execution_count": 65,
   "metadata": {
    "collapsed": true
   },
   "outputs": [],
   "source": [
    "sel = 'a.AdaptiveRelatedSearches-itemAnchor'\n",
    "related_links = browser.find_elements_by_css_selector(sel)"
   ]
  },
  {
   "cell_type": "code",
   "execution_count": 66,
   "metadata": {},
   "outputs": [
    {
     "data": {
      "text/plain": [
       "1"
      ]
     },
     "execution_count": 66,
     "metadata": {},
     "output_type": "execute_result"
    }
   ],
   "source": [
    "len(related_links)"
   ]
  },
  {
   "cell_type": "code",
   "execution_count": 67,
   "metadata": {
    "collapsed": true
   },
   "outputs": [],
   "source": [
    "related_link = related_links[0]"
   ]
  },
  {
   "cell_type": "code",
   "execution_count": 68,
   "metadata": {
    "collapsed": true
   },
   "outputs": [],
   "source": [
    "related_link.click()"
   ]
  },
  {
   "cell_type": "code",
   "execution_count": null,
   "metadata": {
    "collapsed": true
   },
   "outputs": [],
   "source": []
  }
 ],
 "metadata": {
  "kernelspec": {
   "display_name": "Python 3",
   "language": "python",
   "name": "python3"
  },
  "language_info": {
   "codemirror_mode": {
    "name": "ipython",
    "version": 3
   },
   "file_extension": ".py",
   "mimetype": "text/x-python",
   "name": "python",
   "nbconvert_exporter": "python",
   "pygments_lexer": "ipython3",
   "version": "3.6.3"
  }
 },
 "nbformat": 4,
 "nbformat_minor": 2
}
